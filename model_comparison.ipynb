{
 "cells": [
  {
   "cell_type": "code",
   "execution_count": 11,
   "outputs": [],
   "source": [
    "from sklearn.model_selection import KFold\n",
    "from sklearn.neighbors import KNeighborsRegressor\n",
    "from sklearn.tree import DecisionTreeRegressor\n",
    "import numpy as np"
   ],
   "metadata": {
    "collapsed": false,
    "pycharm": {
     "name": "#%%\n"
    }
   }
  },
  {
   "cell_type": "code",
   "execution_count": 93,
   "metadata": {
    "collapsed": true
   },
   "outputs": [
    {
     "name": "stderr",
     "output_type": "stream",
     "text": [
      "c:\\users\\julian\\appdata\\local\\programs\\python\\python38-32\\lib\\site-packages\\IPython\\core\\interactiveshell.py:3417: DtypeWarning: Columns (15) have mixed types.Specify dtype option on import or set low_memory=False.\n",
      "  exec(code_obj, self.user_global_ns, self.user_ns)\n"
     ]
    }
   ],
   "source": [
    "from data import Data\n",
    "data = Data()\n",
    "data.keep_15_symptoms()\n",
    "data.filter_low_data_regions()\n",
    "# data.d = data.d[data.d.loc[:,'date'] >= \"2020-03-23\"]\n",
    "data.fill_na(0)\n",
    "dat = data.d"
   ]
  },
  {
   "cell_type": "code",
   "execution_count": 102,
   "outputs": [],
   "source": [
    "def region_validation_splits(d, n_splits=5):\n",
    "    regions = d[\"open_covid_region_code\"].unique()\n",
    "    kf = KFold(n_splits=n_splits)\n",
    "    for train_i, val_i in kf.split(regions):\n",
    "        train = regions[train_i]\n",
    "        val = regions[val_i]\n",
    "        dat_train = d[d[\"open_covid_region_code\"].isin(train)]\n",
    "        dat_val = d[d[\"open_covid_region_code\"].isin(val)]\n",
    "        x_train = dat_train.iloc[:, 6:-1]\n",
    "        y_train = dat_train.iloc[:, -1]\n",
    "        x_val = dat_val.iloc[:, 6:-1]\n",
    "        y_val = dat_val.iloc[:, -1]\n",
    "        yield x_train, y_train, x_val, y_val"
   ],
   "metadata": {
    "collapsed": false,
    "pycharm": {
     "name": "#%%\n"
    }
   }
  },
  {
   "cell_type": "code",
   "execution_count": 69,
   "outputs": [],
   "source": [
    "def time_validation_split(d, split_date):\n",
    "    dat_train = d[d[\"date\"] <= split_date]\n",
    "    dat_val = d[d[\"date\"] > split_date]\n",
    "    x_train = dat_train.iloc[:, 6:-1]\n",
    "    y_train = dat_train.iloc[:, -1]\n",
    "    x_val = dat_val.iloc[:, 6:-1]\n",
    "    y_val = dat_val.iloc[:, -1]\n",
    "    yield x_train, y_train, x_val, y_val"
   ],
   "metadata": {
    "collapsed": false,
    "pycharm": {
     "name": "#%%\n"
    }
   }
  },
  {
   "cell_type": "code",
   "execution_count": 42,
   "outputs": [],
   "source": [
    "def calc_MSE(model, validation_sets):\n",
    "    squared_error = 0\n",
    "    n_validations = 0\n",
    "    for x_train, y_train, x_val, y_val in validation_sets:\n",
    "        model.fit(x_train, y_train)\n",
    "        pred = model.predict(x_val)\n",
    "        squared_error += sum((pred - y_val) ** 2)\n",
    "        n_validations += x_val.shape[0]\n",
    "    return squared_error / n_validations"
   ],
   "metadata": {
    "collapsed": false,
    "pycharm": {
     "name": "#%%\n"
    }
   }
  },
  {
   "cell_type": "code",
   "execution_count": 100,
   "outputs": [
    {
     "name": "stdout",
     "output_type": "stream",
     "text": [
      "best K = 3, MSE = 1796.527890238417\n"
     ]
    }
   ],
   "source": [
    "n_neighbors = np.zeros(150)\n",
    "for i in range(n_neighbors.shape[0]):\n",
    "    neigh = KNeighborsRegressor(n_neighbors=i+1)\n",
    "    n_neighbors[i] = calc_MSE(neigh, region_validation_splits(dat, n_splits=5))\n",
    "best = np.argmin(n_neighbors) + 1\n",
    "print(f\"best K = {best}, MSE = {n_neighbors[best - 1]}\")"
   ],
   "metadata": {
    "collapsed": false,
    "pycharm": {
     "name": "#%%\n"
    }
   }
  },
  {
   "cell_type": "code",
   "execution_count": 99,
   "outputs": [
    {
     "name": "stdout",
     "output_type": "stream",
     "text": [
      "best min_samples_leaf = 62, MSE = 2010.820581590875\n"
     ]
    }
   ],
   "source": [
    "leaf_samples = np.zeros(100)\n",
    "for i in range(leaf_samples.shape[0]):\n",
    "    tree = DecisionTreeRegressor(min_samples_leaf=i+1)\n",
    "    leaf_samples[i] = calc_MSE(tree, region_validation_splits(dat, n_splits=5))\n",
    "best = np.argmin(leaf_samples) + 1\n",
    "print(f\"best min_samples_leaf = {best}, MSE = {leaf_samples[best - 1]}\")"
   ],
   "metadata": {
    "collapsed": false,
    "pycharm": {
     "name": "#%%\n"
    }
   }
  },
  {
   "cell_type": "code",
   "execution_count": 102,
   "outputs": [],
   "source": [
    "n_neighbors = np.zeros(150)\n",
    "for i in range(n_neighbors.shape[0]):\n",
    "    neigh = KNeighborsRegressor(n_neighbors=i+1)\n",
    "    split = time_validation_split(dat, \"2020-08-10\")\n",
    "    n_neighbors[i] = calc_MSE(neigh, split)\n",
    "best = np.argmin(n_neighbors) + 1\n",
    "print(f\"best K = {best}, MSE = {n_neighbors[best - 1]}\")"
   ],
   "metadata": {
    "collapsed": false,
    "pycharm": {
     "name": "#%%\n"
    }
   }
  },
  {
   "cell_type": "code",
   "execution_count": 98,
   "outputs": [
    {
     "name": "stdout",
     "output_type": "stream",
     "text": [
      "best K = 9, MSE = 1693.5485466555524\n"
     ]
    }
   ],
   "source": [
    "leaf_samples = np.zeros(100)\n",
    "for i in range(leaf_samples.shape[0]):\n",
    "    tree = DecisionTreeRegressor(min_samples_leaf=i+1)\n",
    "    leaf_samples[i] = calc_MSE(tree, time_validation_split(dat, \"2020-08-10\"))\n",
    "best = np.argmin(leaf_samples) + 1\n",
    "print(f\"best min_samples_leaf = {best}, MSE = {leaf_samples[best - 1]}\")"
   ],
   "metadata": {
    "collapsed": false,
    "pycharm": {
     "name": "#%%\n"
    }
   }
  }
 ],
 "metadata": {
  "kernelspec": {
   "display_name": "Python 3",
   "language": "python",
   "name": "python3"
  },
  "language_info": {
   "codemirror_mode": {
    "name": "ipython",
    "version": 2
   },
   "file_extension": ".py",
   "mimetype": "text/x-python",
   "name": "python",
   "nbconvert_exporter": "python",
   "pygments_lexer": "ipython2",
   "version": "2.7.6"
  }
 },
 "nbformat": 4,
 "nbformat_minor": 0
}