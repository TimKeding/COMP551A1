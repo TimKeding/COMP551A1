{
 "cells": [
  {
   "cell_type": "code",
   "execution_count": 1,
   "outputs": [],
   "source": [
    "from sklearn.model_selection import KFold\n",
    "from sklearn.neighbors import KNeighborsRegressor\n",
    "from sklearn.tree import DecisionTreeRegressor\n",
    "import numpy as np"
   ],
   "metadata": {
    "collapsed": false,
    "pycharm": {
     "name": "#%%\n"
    }
   }
  },
  {
   "cell_type": "code",
   "execution_count": 14,
   "metadata": {
    "collapsed": true
   },
   "outputs": [
    {
     "name": "stdout",
     "output_type": "stream",
     "text": [
      "['US-AK' 'US-DC' 'US-DE' 'US-HI' 'US-ID' 'US-ME' 'US-MT' 'US-ND' 'US-NE'\n",
      " 'US-NH' 'US-NM' 'US-RI' 'US-SD' 'US-VT' 'US-WV' 'US-WY']\n"
     ]
    },
    {
     "name": "stderr",
     "output_type": "stream",
     "text": [
      "c:\\users\\julian\\appdata\\local\\programs\\python\\python38-32\\lib\\site-packages\\IPython\\core\\interactiveshell.py:3417: DtypeWarning: Columns (15) have mixed types.Specify dtype option on import or set low_memory=False.\n",
      "  exec(code_obj, self.user_global_ns, self.user_ns)\n"
     ]
    }
   ],
   "source": [
    "from data import Data\n",
    "data = Data()\n",
    "# data.filter_no_covid_cases()\n",
    "# data.keep_15_symptoms()\n",
    "# data.filter_low_data_regions(threshold=0.15)\n",
    "data.fill_na(0)\n",
    "dat = data.d\n",
    "print(dat['open_covid_region_code'].unique())"
   ]
  },
  {
   "cell_type": "code",
   "execution_count": 3,
   "outputs": [],
   "source": [
    "def region_validation_splits(d, n_splits=5):\n",
    "    regions = d[\"open_covid_region_code\"].unique()\n",
    "    kf = KFold(n_splits=n_splits)\n",
    "    for train_i, val_i in kf.split(regions):\n",
    "        train = regions[train_i]\n",
    "        val = regions[val_i]\n",
    "        dat_train = d[d[\"open_covid_region_code\"].isin(train)]\n",
    "        dat_val = d[d[\"open_covid_region_code\"].isin(val)]\n",
    "        x_train = dat_train.iloc[:, 6:-1]\n",
    "        y_train = dat_train.iloc[:, -1]\n",
    "        x_val = dat_val.iloc[:, 6:-1]\n",
    "        y_val = dat_val.iloc[:, -1]\n",
    "        yield x_train, y_train, x_val, y_val"
   ],
   "metadata": {
    "collapsed": false,
    "pycharm": {
     "name": "#%%\n"
    }
   }
  },
  {
   "cell_type": "code",
   "execution_count": 4,
   "outputs": [],
   "source": [
    "def time_validation_split(d, split_date):\n",
    "    dat_train = d[d[\"date\"] <= split_date]\n",
    "    dat_val = d[d[\"date\"] > split_date]\n",
    "    x_train = dat_train.iloc[:, 6:-1]\n",
    "    y_train = dat_train.iloc[:, -1]\n",
    "    x_val = dat_val.iloc[:, 6:-1]\n",
    "    y_val = dat_val.iloc[:, -1]\n",
    "    yield x_train, y_train, x_val, y_val"
   ],
   "metadata": {
    "collapsed": false,
    "pycharm": {
     "name": "#%%\n"
    }
   }
  },
  {
   "cell_type": "code",
   "execution_count": 5,
   "outputs": [],
   "source": [
    "def calc_MSE(model, validation_sets):\n",
    "    squared_error = 0\n",
    "    n_validations = 0\n",
    "    for x_train, y_train, x_val, y_val in validation_sets:\n",
    "        model.fit(x_train, y_train)\n",
    "        pred = model.predict(x_val)\n",
    "        squared_error += sum((pred - y_val) ** 2)\n",
    "        n_validations += x_val.shape[0]\n",
    "    return squared_error / n_validations"
   ],
   "metadata": {
    "collapsed": false,
    "pycharm": {
     "name": "#%%\n"
    }
   }
  },
  {
   "cell_type": "code",
   "execution_count": 18,
   "outputs": [
    {
     "name": "stdout",
     "output_type": "stream",
     "text": [
      "best K = 81, MSE = 4466.252648224357\n"
     ]
    }
   ],
   "source": [
    "n_neighbors = np.zeros(100)\n",
    "for i in range(n_neighbors.shape[0]):\n",
    "    neigh = KNeighborsRegressor(n_neighbors=i+1)\n",
    "    n_neighbors[i] = calc_MSE(neigh, region_validation_splits(dat, n_splits=5))\n",
    "best = np.argmin(n_neighbors) + 1\n",
    "print(f\"best K = {best}, MSE = {n_neighbors[best - 1]}\")"
   ],
   "metadata": {
    "collapsed": false,
    "pycharm": {
     "name": "#%%\n"
    }
   }
  },
  {
   "cell_type": "code",
   "execution_count": 17,
   "outputs": [
    {
     "name": "stdout",
     "output_type": "stream",
     "text": [
      "best min_samples_leaf = 45, MSE = 4080.3749903676476\n"
     ]
    }
   ],
   "source": [
    "leaf_samples = np.zeros(100)\n",
    "for i in range(leaf_samples.shape[0]):\n",
    "    tree = DecisionTreeRegressor(min_samples_leaf=i+1)\n",
    "    leaf_samples[i] = calc_MSE(tree, region_validation_splits(dat, n_splits=5))\n",
    "best = np.argmin(leaf_samples) + 1\n",
    "print(f\"best min_samples_leaf = {best}, MSE = {leaf_samples[best - 1]}\")"
   ],
   "metadata": {
    "collapsed": false,
    "pycharm": {
     "name": "#%%\n"
    }
   }
  },
  {
   "cell_type": "code",
   "execution_count": 16,
   "outputs": [
    {
     "name": "stdout",
     "output_type": "stream",
     "text": [
      "best K = 43, MSE = 1178.432778979629\n"
     ]
    }
   ],
   "source": [
    "n_neighbors = np.zeros(100)\n",
    "for i in range(n_neighbors.shape[0]):\n",
    "    neigh = KNeighborsRegressor(n_neighbors=i+1)\n",
    "    n_neighbors[i] = calc_MSE(neigh, time_validation_split(dat, \"2020-08-10\"))\n",
    "best = np.argmin(n_neighbors) + 1\n",
    "print(f\"best K = {best}, MSE = {n_neighbors[best - 1]}\")"
   ],
   "metadata": {
    "collapsed": false,
    "pycharm": {
     "name": "#%%\n"
    }
   }
  },
  {
   "cell_type": "code",
   "execution_count": 15,
   "outputs": [
    {
     "name": "stdout",
     "output_type": "stream",
     "text": [
      "best min_samples_leaf = 30, MSE = 1234.4315375578458\n"
     ]
    }
   ],
   "source": [
    "leaf_samples = np.zeros(100)\n",
    "for i in range(leaf_samples.shape[0]):\n",
    "    tree = DecisionTreeRegressor(min_samples_leaf=i+1)\n",
    "    leaf_samples[i] = calc_MSE(tree, time_validation_split(dat, \"2020-08-10\"))\n",
    "best = np.argmin(leaf_samples) + 1\n",
    "print(f\"best min_samples_leaf = {best}, MSE = {leaf_samples[best - 1]}\")"
   ],
   "metadata": {
    "collapsed": false,
    "pycharm": {
     "name": "#%%\n"
    }
   }
  }
 ],
 "metadata": {
  "kernelspec": {
   "display_name": "Python 3",
   "language": "python",
   "name": "python3"
  },
  "language_info": {
   "codemirror_mode": {
    "name": "ipython",
    "version": 2
   },
   "file_extension": ".py",
   "mimetype": "text/x-python",
   "name": "python",
   "nbconvert_exporter": "python",
   "pygments_lexer": "ipython2",
   "version": "2.7.6"
  }
 },
 "nbformat": 4,
 "nbformat_minor": 0
}