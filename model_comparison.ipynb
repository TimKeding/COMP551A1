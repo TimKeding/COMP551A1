{
 "cells": [
  {
   "cell_type": "code",
   "execution_count": 1,
   "outputs": [],
   "source": [
    "from sklearn.model_selection import KFold\n",
    "from sklearn.neighbors import KNeighborsRegressor\n",
    "from sklearn.tree import DecisionTreeRegressor\n",
    "import numpy as np\n",
    "\n",
    "from pca import PCAPlotting"
   ],
   "metadata": {
    "collapsed": false,
    "pycharm": {
     "name": "#%%\n"
    }
   }
  },
  {
   "cell_type": "markdown",
   "metadata": {
    "collapsed": true,
    "pycharm": {
     "name": "#%% md\n"
    }
   },
   "source": [
    "1. import merged data\n",
    "2. remove regions that contain >= 85% of data being NaN\n",
    "3. fill all NaNs with 0s"
   ]
  },
  {
   "cell_type": "code",
   "execution_count": null,
   "outputs": [],
   "source": [
    "from data import Data\n",
    "data = Data()\n",
    "data.filter_low_data_regions(threshold=0.15)\n",
    "data.fill_na(0)\n",
    "dat = data.d\n",
    "print(dat['open_covid_region_code'].unique())"
   ],
   "metadata": {
    "collapsed": false,
    "pycharm": {
     "name": "#%%\n"
    }
   }
  },
  {
   "cell_type": "markdown",
   "source": [
    "`region_validation_splits` generates test splits grouped by regions"
   ],
   "metadata": {
    "collapsed": false,
    "pycharm": {
     "name": "#%% md\n"
    }
   }
  },
  {
   "cell_type": "code",
   "execution_count": null,
   "outputs": [],
   "source": [
    "def region_validation_splits(d, n_splits=5):\n",
    "    regions = d[\"open_covid_region_code\"].unique()\n",
    "    kf = KFold(n_splits=n_splits)\n",
    "    for train_i, val_i in kf.split(regions):\n",
    "        train = regions[train_i]\n",
    "        val = regions[val_i]\n",
    "        dat_train = d[d[\"open_covid_region_code\"].isin(train)]\n",
    "        dat_val = d[d[\"open_covid_region_code\"].isin(val)]\n",
    "        x_train = dat_train.iloc[:, 6:-1]\n",
    "        y_train = dat_train.iloc[:, -1]\n",
    "        x_val = dat_val.iloc[:, 6:-1]\n",
    "        y_val = dat_val.iloc[:, -1]\n",
    "        yield x_train, y_train, x_val, y_val"
   ],
   "metadata": {
    "collapsed": false,
    "pycharm": {
     "name": "#%%\n"
    }
   }
  },
  {
   "cell_type": "markdown",
   "source": [
    "`time_validation_split` splits the data into two sets: before and after a given time."
   ],
   "metadata": {
    "collapsed": false,
    "pycharm": {
     "name": "#%% md\n"
    }
   }
  },
  {
   "cell_type": "code",
   "execution_count": null,
   "outputs": [],
   "source": [
    "def time_validation_split(d, split_date):\n",
    "    dat_train = d[d[\"date\"] <= split_date]\n",
    "    dat_val = d[d[\"date\"] > split_date]\n",
    "    x_train = dat_train.iloc[:, 6:-1]\n",
    "    y_train = dat_train.iloc[:, -1]\n",
    "    x_val = dat_val.iloc[:, 6:-1]\n",
    "    y_val = dat_val.iloc[:, -1]\n",
    "    yield x_train, y_train, x_val, y_val"
   ],
   "metadata": {
    "collapsed": false,
    "pycharm": {
     "name": "#%%\n"
    }
   }
  },
  {
   "cell_type": "markdown",
   "source": [
    "Mean Squared Error"
   ],
   "metadata": {
    "collapsed": false,
    "pycharm": {
     "name": "#%% md\n"
    }
   }
  },
  {
   "cell_type": "code",
   "execution_count": null,
   "outputs": [],
   "source": [
    "def calc_MSE(model, validation_sets):\n",
    "    squared_error = 0\n",
    "    n_validations = 0\n",
    "    for x_train, y_train, x_val, y_val in validation_sets:\n",
    "        model.fit(x_train, y_train)\n",
    "        pred = model.predict(x_val)\n",
    "        squared_error += sum((pred - y_val) ** 2)\n",
    "        n_validations += x_val.shape[0]\n",
    "    return squared_error / n_validations"
   ],
   "metadata": {
    "collapsed": false,
    "pycharm": {
     "name": "#%%\n"
    }
   }
  },
  {
   "cell_type": "markdown",
   "source": [
    "KNN performance on region cross validation. This outputs the best K and it's corresponding\n",
    "mean squared error."
   ],
   "metadata": {
    "collapsed": false
   }
  },
  {
   "cell_type": "code",
   "execution_count": null,
   "outputs": [],
   "source": [
    "n_neighbors = np.zeros(100)\n",
    "for i in range(n_neighbors.shape[0]):\n",
    "    neigh = KNeighborsRegressor(n_neighbors=i+1)\n",
    "    n_neighbors[i] = calc_MSE(neigh, region_validation_splits(dat, n_splits=5))\n",
    "best = np.argmin(n_neighbors) + 1\n",
    "print(f\"best K = {best}, MSE = {n_neighbors[best - 1]}\")"
   ],
   "metadata": {
    "collapsed": false,
    "pycharm": {
     "name": "#%%\n"
    }
   }
  },
  {
   "cell_type": "markdown",
   "source": [
    "Regression Tree performance on region cross validation. It uses minimum samples per leaf\n",
    "as a hyperparameter. This outputs the best min_sample_leaf and it's corresponding\n",
    "mean squared error."
   ],
   "metadata": {
    "collapsed": false
   }
  },
  {
   "cell_type": "code",
   "execution_count": null,
   "outputs": [],
   "source": [
    "leaf_samples = np.zeros(100)\n",
    "for i in range(leaf_samples.shape[0]):\n",
    "    tree = DecisionTreeRegressor(min_samples_leaf=i+1)\n",
    "    leaf_samples[i] = calc_MSE(tree, region_validation_splits(dat, n_splits=5))\n",
    "best = np.argmin(leaf_samples) + 1\n",
    "print(f\"best min_samples_leaf = {best}, MSE = {leaf_samples[best - 1]}\")"
   ],
   "metadata": {
    "collapsed": false,
    "pycharm": {
     "name": "#%%\n"
    }
   }
  },
  {
   "cell_type": "markdown",
   "source": [
    "KNN performance on time split validation. This outputs the best K and it's corresponding\n",
    "mean squared error."
   ],
   "metadata": {
    "collapsed": false
   }
  },
  {
   "cell_type": "code",
   "execution_count": null,
   "outputs": [],
   "source": [
    "n_neighbors = np.zeros(200)\n",
    "for i in range(n_neighbors.shape[0]):\n",
    "    neigh = KNeighborsRegressor(n_neighbors=i+1)\n",
    "    n_neighbors[i] = calc_MSE(neigh, time_validation_split(dat, \"2020-08-10\"))\n",
    "best = np.argmin(n_neighbors) + 1\n",
    "print(f\"best K = {best}, MSE = {n_neighbors[best - 1]}\")"
   ],
   "metadata": {
    "collapsed": false,
    "pycharm": {
     "name": "#%%\n"
    }
   }
  },
  {
   "cell_type": "markdown",
   "source": [
    "Regression Tree performance on time split validation. It uses minimum samples per leaf\n",
    "as a hyperparameter. This outputs the best min_sample_leaf and it's corresponding\n",
    "mean squared error."
   ],
   "metadata": {
    "collapsed": false
   }
  },
  {
   "cell_type": "code",
   "execution_count": null,
   "outputs": [],
   "source": [
    "leaf_samples = np.zeros(200)\n",
    "for i in range(leaf_samples.shape[0]):\n",
    "    tree = DecisionTreeRegressor(min_samples_leaf=i+1)\n",
    "    leaf_samples[i] = calc_MSE(tree, time_validation_split(dat, \"2020-08-10\"))\n",
    "best = np.argmin(leaf_samples) + 1\n",
    "print(f\"best min_samples_leaf = {best}, MSE = {leaf_samples[best - 1]}\")"
   ],
   "metadata": {
    "collapsed": false,
    "pycharm": {
     "name": "#%%\n"
    }
   }
  },
  {
   "cell_type": "markdown",
   "source": [
    "This is an attempt at using a model on the PCA-reduced dataset and ordinary 5-fold\n",
    "cross validation is used."
   ],
   "metadata": {
    "collapsed": false
   }
  },
  {
   "cell_type": "code",
   "execution_count": null,
   "outputs": [],
   "source": [
    "pca = PCAPlotting(dat)\n",
    "pca.reduce_dimensionality(new_dimension=2)\n",
    "pca.add_hospitalized_new()\n",
    "X = pca.reduced_data[:,:-1]\n",
    "y = pca.reduced_data[:,-1]\n",
    "kf = KFold(n_splits=5)\n",
    "\n",
    "mse = np.zeros(200)\n",
    "for i in range(mse.shape[0]):\n",
    "    sqr_err = 0\n",
    "    n_test = 0\n",
    "    for train_i, test_i in kf.split(X):\n",
    "        # model = KNeighborsRegressor(n_neighbors=i+1)\n",
    "        model = DecisionTreeRegressor(min_samples_leaf=i+1)\n",
    "        model.fit(X[train_i], y[train_i])\n",
    "        pred = model.predict(X[test_i])\n",
    "        sqr_err += np.sum((pred - y[test_i]) ** 2)\n",
    "        n_test += test_i.shape[0]\n",
    "    mse[i] = sqr_err / n_test\n",
    "best = np.argmin(mse) + 1\n",
    "print(f\"best = {best}, MSE = {mse[best - 1]}\")\n"
   ],
   "metadata": {
    "collapsed": false,
    "pycharm": {
     "name": "#%%\n"
    }
   }
  },
  {
   "cell_type": "markdown",
   "source": [
    "pca = PCAPlotting(dat)\n",
    "pca.reduce_dimensionality(new_dimension=2)\n",
    "pca.add_hospitalized_new()\n",
    "X = pca.reduced_data[:,:-1]\n",
    "y = pca.reduced_data[:,-1]\n",
    "kf = KFold(n_splits=5)\n",
    "\n",
    "mse = np.zeros(200)\n",
    "for i in range(mse.shape[0]):\n",
    "    sqr_err = 0\n",
    "    n_test = 0\n",
    "    for train_i, test_i in kf.split(X):\n",
    "        # model = KNeighborsRegressor(n_neighbors=i+1)\n",
    "        model = DecisionTreeRegressor(min_samples_leaf=i+1)\n",
    "        model.fit(X[train_i], y[train_i])\n",
    "        pred = model.predict(X[test_i])\n",
    "        sqr_err += np.sum((pred - y[test_i]) ** 2)\n",
    "        n_test += test_i.shape[0]\n",
    "    mse[i] = sqr_err / n_test\n",
    "best = np.argmin(mse) + 1\n",
    "print(f\"best = {best}, MSE = {mse[best - 1]}\")\n"
   ],
   "metadata": {
    "collapsed": false,
    "pycharm": {
     "name": "#%% md\n"
    }
   }
  },
  {
   "cell_type": "code",
   "execution_count": 6,
   "outputs": [
    {
     "name": "stdout",
     "output_type": "stream",
     "text": [
      "best K = 100, MSE = 2392.578654473684\n"
     ]
    }
   ],
   "source": [
    "n_neighbors = np.zeros(100)\n",
    "for i in range(n_neighbors.shape[0]):\n",
    "    neigh = KNeighborsRegressor(n_neighbors=i+1)\n",
    "    n_neighbors[i] = calc_MSE(neigh, region_validation_splits(dat, n_splits=5))\n",
    "best = np.argmin(n_neighbors) + 1\n",
    "print(f\"best K = {best}, MSE = {n_neighbors[best - 1]}\")"
   ],
   "metadata": {
    "collapsed": false,
    "pycharm": {
     "name": "#%%\n"
    }
   }
  },
  {
   "cell_type": "markdown",
   "source": [
    "Regression Tree performance on region cross validation. It uses minimum samples per leaf\n",
    "as a hyperparameter. This outputs the best min_sample_leaf and it's corresponding\n",
    "mean squared error."
   ],
   "metadata": {
    "collapsed": false,
    "pycharm": {
     "name": "#%% md\n"
    }
   }
  },
  {
   "cell_type": "code",
   "execution_count": 7,
   "outputs": [
    {
     "name": "stdout",
     "output_type": "stream",
     "text": [
      "best min_samples_leaf = 28, MSE = 2277.33822027266\n"
     ]
    }
   ],
   "source": [
    "leaf_samples = np.zeros(100)\n",
    "for i in range(leaf_samples.shape[0]):\n",
    "    tree = DecisionTreeRegressor(min_samples_leaf=i+1)\n",
    "    leaf_samples[i] = calc_MSE(tree, region_validation_splits(dat, n_splits=5))\n",
    "best = np.argmin(leaf_samples) + 1\n",
    "print(f\"best min_samples_leaf = {best}, MSE = {leaf_samples[best - 1]}\")"
   ],
   "metadata": {
    "collapsed": false,
    "pycharm": {
     "name": "#%%\n"
    }
   }
  },
  {
   "cell_type": "markdown",
   "source": [
    "KNN performance on time split validation. This outputs the best K and it's corresponding\n",
    "mean squared error."
   ],
   "metadata": {
    "collapsed": false
   }
  },
  {
   "cell_type": "code",
   "execution_count": 52,
   "outputs": [
    {
     "name": "stdout",
     "output_type": "stream",
     "text": [
      "best K = 1, MSE = 972.1166666666667\n"
     ]
    }
   ],
   "source": [
    "n_neighbors = np.zeros(200)\n",
    "for i in range(n_neighbors.shape[0]):\n",
    "    neigh = KNeighborsRegressor(n_neighbors=i+1)\n",
    "    n_neighbors[i] = calc_MSE(neigh, time_validation_split(dat, \"2020-08-10\"))\n",
    "best = np.argmin(n_neighbors) + 1\n",
    "print(f\"best K = {best}, MSE = {n_neighbors[best - 1]}\")"
   ],
   "metadata": {
    "collapsed": false,
    "pycharm": {
     "name": "#%%\n"
    }
   }
  },
  {
   "cell_type": "markdown",
   "source": [
    "Regression Tree performance on time split validation. It uses minimum samples per leaf\n",
    "as a hyperparameter. This outputs the best min_sample_leaf and it's corresponding\n",
    "mean squared error."
   ],
   "metadata": {
    "collapsed": false
   }
  },
  {
   "cell_type": "code",
   "execution_count": 50,
   "outputs": [
    {
     "name": "stdout",
     "output_type": "stream",
     "text": [
      "best min_samples_leaf = 3, MSE = 1061.9392407407408\n"
     ]
    }
   ],
   "source": [
    "leaf_samples = np.zeros(200)\n",
    "for i in range(leaf_samples.shape[0]):\n",
    "    tree = DecisionTreeRegressor(min_samples_leaf=i+1)\n",
    "    leaf_samples[i] = calc_MSE(tree, time_validation_split(dat, \"2020-08-10\"))\n",
    "best = np.argmin(leaf_samples) + 1\n",
    "print(f\"best min_samples_leaf = {best}, MSE = {leaf_samples[best - 1]}\")"
   ],
   "metadata": {
    "collapsed": false,
    "pycharm": {
     "name": "#%%\n"
    }
   }
  },
  {
   "cell_type": "markdown",
   "source": [
    "This is an attempt at using a model on the PCA-reduced dataset and ordinary 5-fold\n",
    "cross validation is used."
   ],
   "metadata": {
    "collapsed": false,
    "pycharm": {
     "name": "#%% md\n"
    }
   }
  },
  {
   "cell_type": "code",
   "execution_count": 49,
   "outputs": [
    {
     "name": "stdout",
     "output_type": "stream",
     "text": [
      "best = 153, MSE = 2177.7346649930746\n"
     ]
    }
   ],
   "source": [
    "pca = PCAPlotting(dat)\n",
    "pca.reduce_dimensionality(new_dimension=2)\n",
    "pca.add_hospitalized_new()\n",
    "X = pca.reduced_data[:,:-1]\n",
    "y = pca.reduced_data[:,-1]\n",
    "kf = KFold(n_splits=5)\n",
    "\n",
    "mse = np.zeros(200)\n",
    "for i in range(mse.shape[0]):\n",
    "    sqr_err = 0\n",
    "    n_test = 0\n",
    "    for train_i, test_i in kf.split(X):\n",
    "        # model = KNeighborsRegressor(n_neighbors=i+1)\n",
    "        model = DecisionTreeRegressor(min_samples_leaf=i+1)\n",
    "        model.fit(X[train_i], y[train_i])\n",
    "        pred = model.predict(X[test_i])\n",
    "        sqr_err += np.sum((pred - y[test_i]) ** 2)\n",
    "        n_test += test_i.shape[0]\n",
    "    mse[i] = sqr_err / n_test\n",
    "best = np.argmin(mse) + 1\n",
    "print(f\"best = {best}, MSE = {mse[best - 1]}\")\n"
   ],
   "metadata": {
    "collapsed": false,
    "pycharm": {
     "name": "#%%\n"
    }
   }
  }
 ],
 "metadata": {
  "kernelspec": {
   "display_name": "Python 3",
   "language": "python",
   "name": "python3"
  },
  "language_info": {
   "codemirror_mode": {
    "name": "ipython",
    "version": 2
   },
   "file_extension": ".py",
   "mimetype": "text/x-python",
   "name": "python",
   "nbconvert_exporter": "python",
   "pygments_lexer": "ipython2",
   "version": "2.7.6"
  }
 },
 "nbformat": 4,
 "nbformat_minor": 0
}